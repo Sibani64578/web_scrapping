{
 "cells": [
  {
   "cell_type": "markdown",
   "metadata": {},
   "source": [
    "Q1. What is Web Scraping? Why is it Used? Give three areas where Web Scraping is used to get data."
   ]
  },
  {
   "attachments": {},
   "cell_type": "markdown",
   "metadata": {},
   "source": [
    "Web scraping is the automated process of extracting information or data from websites.\n",
    "\n",
    "E-commerce: Web scraping is extensively used in e-commerce to collect product details, pricing information, customer reviews, and other data from various online retailers\n",
    "\n",
    "Financial Services: Web scraping is employed in the finance industry to gather data on stock prices, financial statements, economic indicators, and news related to companies or markets\n",
    "\n",
    "Real Estate: Web scraping is utilized in the real estate sector to extract property listings, prices, rental data, and other relevant information from real estate websites"
   ]
  },
  {
   "attachments": {},
   "cell_type": "markdown",
   "metadata": {},
   "source": [
    "Q2. What are the different methods used for Web Scraping?"
   ]
  },
  {
   "attachments": {},
   "cell_type": "markdown",
   "metadata": {},
   "source": [
    "There are several methods and techniques used for web scraping. The choice of method depends on factors such as the complexity of the website, the desired data to be extracted, and the tools or programming languages being used. Here are some common methods used for web scraping:\n",
    "\n"
   ]
  },
  {
   "attachments": {},
   "cell_type": "markdown",
   "metadata": {},
   "source": [
    "Q3. What is Beautiful Soup? Why is it used?"
   ]
  },
  {
   "attachments": {},
   "cell_type": "markdown",
   "metadata": {},
   "source": [
    "Beautiful Soup is a Python library that is commonly used for web scraping and parsing HTML or XML documents. It provides a convenient way to extract data from web pages by navigating and searching the HTML tree structure."
   ]
  },
  {
   "attachments": {},
   "cell_type": "markdown",
   "metadata": {},
   "source": [
    "Q4. Why is flask used in this Web Scraping project?"
   ]
  },
  {
   "attachments": {},
   "cell_type": "markdown",
   "metadata": {},
   "source": [
    "Flask is a web framework for Python that is commonly used in web scraping projects for several reasons:\n",
    "Building Web Interfaces,Task Scheduling and Management"
   ]
  },
  {
   "attachments": {},
   "cell_type": "markdown",
   "metadata": {},
   "source": [
    "Q5. Write the names of AWS services used in this project. Also, explain the use of each service."
   ]
  },
  {
   "attachments": {},
   "cell_type": "markdown",
   "metadata": {},
   "source": [
    "In a web scraping project hosted on AWS (Amazon Web Services), several services can be utilized depending on the specific requirements and architecture. Here are some commonly used AWS services and their purposes in a web scraping project."
   ]
  }
 ],
 "metadata": {
  "language_info": {
   "name": "python"
  },
  "orig_nbformat": 4
 },
 "nbformat": 4,
 "nbformat_minor": 2
}
